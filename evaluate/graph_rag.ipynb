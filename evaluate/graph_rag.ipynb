{
 "cells": [
  {
   "cell_type": "code",
   "execution_count": 9,
   "metadata": {},
   "outputs": [
    {
     "name": "stdout",
     "output_type": "stream",
     "text": [
      "Note: you may need to restart the kernel to use updated packages.\n"
     ]
    }
   ],
   "source": [
    "%pip install --upgrade --quiet  \\\n",
    "    langchain-openai \\\n",
    "    langchain \\\n",
    "    langchain-community \\\n",
    "    langchain-google-genai\\\n",
    "    langchain-groq\\\n",
    "    langchain-experimental\\\n",
    "    networkx\\\n",
    "    langchain-chroma\\\n",
    "    json-repair\\\n",
    "    langchain-openai\\\n",
    "    neo4j\n"
   ]
  },
  {
   "cell_type": "code",
   "execution_count": null,
   "metadata": {},
   "outputs": [],
   "source": [
    "# https://medium.com/@sridevi.gogusetty/rag-vs-graph-rag-llama-3-1-8f2717c554e6"
   ]
  },
  {
   "cell_type": "code",
   "execution_count": 12,
   "metadata": {},
   "outputs": [],
   "source": [
    "from langchain_community.document_loaders import TextLoader\n",
    "from langchain_openai import OpenAIEmbeddings\n",
    "from langchain_text_splitters import CharacterTextSplitter\n",
    "from langchain_google_genai import GoogleGenerativeAIEmbeddings\n",
    "from langchain_core.documents import Document\n",
    "from langchain_experimental.graph_transformers import LLMGraphTransformer\n",
    "from langchain_google_genai import GoogleGenerativeAI\n",
    "from langchain.indexes.graph import NetworkxEntityGraph\n",
    "from langchain.chains import GraphQAChain\n",
    "from langchain_groq import ChatGroq\n",
    "\n",
    "GROQ_API_KEY = \"\""
   ]
  },
  {
   "cell_type": "code",
   "execution_count": 13,
   "metadata": {},
   "outputs": [
    {
     "name": "stdout",
     "output_type": "stream",
     "text": [
      "Nodes:[Node(id='Rani Lakshmibai', type='Person', properties={}), Node(id='Moropant Tambe', type='Person', properties={}), Node(id='Bhagirathi Sapre', type='Person', properties={}), Node(id='Peshwa Baji Rao Ii', type='Person', properties={}), Node(id='Nana Sahib', type='Person', properties={}), Node(id='Tantia Tope', type='Person', properties={}), Node(id='Banares', type='Country', properties={}), Node(id='Varanasi', type='Country', properties={}), Node(id='Tambe Village', type='Country', properties={}), Node(id='Guhagar Taluka', type='Country', properties={}), Node(id='Ratnagiri District', type='Country', properties={}), Node(id='Maharashtra', type='Country', properties={}), Node(id='Bithoor District', type='Country', properties={}), Node(id='Rani Mahal', type='Organization', properties={})]\n",
      "Relationships:[Relationship(source=Node(id='Rani Lakshmibai', type='Person', properties={}), target=Node(id='Moropant Tambe', type='Person', properties={}), type='FATHER', properties={}), Relationship(source=Node(id='Rani Lakshmibai', type='Person', properties={}), target=Node(id='Bhagirathi Sapre', type='Person', properties={}), type='MOTHER', properties={}), Relationship(source=Node(id='Rani Lakshmibai', type='Person', properties={}), target=Node(id='Peshwa Baji Rao Ii', type='Person', properties={}), type='WORKED_AT', properties={}), Relationship(source=Node(id='Rani Lakshmibai', type='Person', properties={}), target=Node(id='Nana Sahib', type='Person', properties={}), type='SPOUSE', properties={}), Relationship(source=Node(id='Rani Lakshmibai', type='Person', properties={}), target=Node(id='Tantia Tope', type='Person', properties={}), type='SPOUSE', properties={}), Relationship(source=Node(id='Rani Lakshmibai', type='Person', properties={}), target=Node(id='Banares', type='Country', properties={}), type='LOCATED_IN', properties={}), Relationship(source=Node(id='Rani Lakshmibai', type='Person', properties={}), target=Node(id='Varanasi', type='Country', properties={}), type='LOCATED_IN', properties={}), Relationship(source=Node(id='Rani Lakshmibai', type='Person', properties={}), target=Node(id='Tambe Village', type='Country', properties={}), type='LOCATED_IN', properties={}), Relationship(source=Node(id='Rani Lakshmibai', type='Person', properties={}), target=Node(id='Guhagar Taluka', type='Country', properties={}), type='LOCATED_IN', properties={}), Relationship(source=Node(id='Rani Lakshmibai', type='Person', properties={}), target=Node(id='Ratnagiri District', type='Country', properties={}), type='LOCATED_IN', properties={}), Relationship(source=Node(id='Rani Lakshmibai', type='Person', properties={}), target=Node(id='Maharashtra', type='Country', properties={}), type='LOCATED_IN', properties={}), Relationship(source=Node(id='Rani Lakshmibai', type='Person', properties={}), target=Node(id='Bithoor District', type='Country', properties={}), type='LOCATED_IN', properties={}), Relationship(source=Node(id='Rani Lakshmibai', type='Person', properties={}), target=Node(id='Rani Mahal', type='Organization', properties={}), type='WORKED_AT', properties={})]\n"
     ]
    }
   ],
   "source": [
    "Text = 'Rani Lakshmibai (or Rani Lakshmi Bai) was born on 19 November 1828, (some sources say 1835) in the town of Banares (now Varanasi) into a Marathi Karhade Brahmin family.\\\n",
    " She was named Manikarnika Tambe and was nicknamed Manu.[8] Her father was Moropant Tambe[9] and her mother Bhagirathi Sapre (Bhagirathi Bai).\\\n",
    "  Her parents came from the Tambe village of the Guhagar taluka located in the Ratnagiri district of modern-day Maharashtra.\\\n",
    " Her mother died when she was five years old. Her father was a Commander during the war of Kalyanpranth. Her father worked for Peshwa Baji Rao II of Bithoor district.\\\n",
    "  The Peshwa called her \"Chhabili\", which means \"beautiful \" and \"lively and cheerful\". \\\n",
    " She was educated at home and was taught to read and write, and was more independent in her childhood than others of her age; \\\n",
    " her studies included shooting, horsemanship, fencing and mallakhamba with her childhood friends Nana Sahib and Tantia Tope. \\\n",
    " Rani Lakshmibai contrasted many of the patriarchal cultural expectations for women in India\\'s society at this time.\\\n",
    "And she was known for her unique perspectives and her courage to fight against social norms even in front of the whole society.\\\n",
    "Rani Lakshmibai was accustomed to riding on horseback accompanied by escorts between the palace and the temple, although sometimes she was carried in a palanquin.\\\n",
    "Her horses included Sarangi, Pavan and Baadal; according to historians, she rode Baadal when escaping from the fort in 1858. Her palace, the Rani Mahal, has now been converted into a museum.\\\n",
    " It houses a collection of archaeological remains of the period between the 9th and 12th centuries AD.'\n",
    "documents = [Document(page_content=Text)]\n",
    "llm = ChatGroq(\n",
    "    temperature=0, model_name=\"llama-3.1-70b-versatile\", groq_api_key=GROQ_API_KEY\n",
    ")\n",
    "llm_transformer_filtered = LLMGraphTransformer(\n",
    "    llm=llm,\n",
    "    allowed_nodes=[\"Person\", \"Country\", \"Organization\"],\n",
    "    allowed_relationships=[\n",
    "        \"NATIONALITY\",\n",
    "        \"Father\",\n",
    "        \"Mother\",\n",
    "        \"LOCATED_IN\",\n",
    "        \"WORKED_AT\",\n",
    "        \"SPOUSE\",\n",
    "    ],\n",
    ")\n",
    "graph_documents_filtered = llm_transformer_filtered.convert_to_graph_documents(\n",
    "    documents\n",
    ")\n",
    "graph = NetworkxEntityGraph()\n",
    "# add nodes to the graph\n",
    "for node in graph_documents_filtered[0].nodes:\n",
    "    graph.add_node(node.id)\n",
    "# add edges to the graph\n",
    "for edge in graph_documents_filtered[0].relationships:\n",
    "    graph._graph.add_edge(edge.source.id, edge.target.id, relation=edge.type)\n",
    "print(f\"Nodes:{graph_documents_filtered[0].nodes}\")\n",
    "print(f\"Relationships:{graph_documents_filtered[0].relationships}\")\n",
    "graph_rag = GraphQAChain.from_llm(llm, graph=graph, verbose=True)"
   ]
  },
  {
   "cell_type": "code",
   "execution_count": 15,
   "metadata": {},
   "outputs": [],
   "source": [
    "from langchain_community.document_loaders import TextLoader\n",
    "from langchain_openai import OpenAIEmbeddings\n",
    "from langchain_text_splitters import CharacterTextSplitter\n",
    "from langchain_google_genai import GoogleGenerativeAIEmbeddings\n",
    "from langchain_chroma import Chroma\n",
    "from langchain.chains import RetrievalQA"
   ]
  },
  {
   "cell_type": "code",
   "execution_count": 19,
   "metadata": {},
   "outputs": [
    {
     "name": "stdout",
     "output_type": "stream",
     "text": [
      "\n",
      "\n",
      "\u001b[1m> Entering new GraphQAChain chain...\u001b[0m\n",
      "Entities Extracted:\n",
      "\u001b[32;1m\u001b[1;3mRani Lakshmibai\u001b[0m\n",
      "Full Context:\n",
      "\u001b[32;1m\u001b[1;3mRani Lakshmibai FATHER Moropant Tambe\n",
      "Rani Lakshmibai MOTHER Bhagirathi Sapre\n",
      "Rani Lakshmibai WORKED_AT Peshwa Baji Rao Ii\n",
      "Rani Lakshmibai SPOUSE Nana Sahib\n",
      "Rani Lakshmibai SPOUSE Tantia Tope\n",
      "Rani Lakshmibai LOCATED_IN Banares\n",
      "Rani Lakshmibai LOCATED_IN Varanasi\n",
      "Rani Lakshmibai LOCATED_IN Tambe Village\n",
      "Rani Lakshmibai LOCATED_IN Guhagar Taluka\n",
      "Rani Lakshmibai LOCATED_IN Ratnagiri District\n",
      "Rani Lakshmibai LOCATED_IN Maharashtra\n",
      "Rani Lakshmibai LOCATED_IN Bithoor District\n",
      "Rani Lakshmibai WORKED_AT Rani Mahal\u001b[0m\n",
      "\n",
      "\u001b[1m> Finished chain.\u001b[0m\n"
     ]
    },
    {
     "data": {
      "text/plain": [
       "\"Rani Lakshmibai's father is Moropant Tambe.\""
      ]
     },
     "execution_count": 19,
     "metadata": {},
     "output_type": "execute_result"
    }
   ],
   "source": [
    "chain = GraphQAChain.from_llm(llm=llm, graph=graph, verbose=True)\n",
    "question = \"\"\"Rani Lakshmibai father\"\"\"\n",
    "chain.run(question)"
   ]
  }
 ],
 "metadata": {
  "kernelspec": {
   "display_name": "Python 3",
   "language": "python",
   "name": "python3"
  },
  "language_info": {
   "codemirror_mode": {
    "name": "ipython",
    "version": 3
   },
   "file_extension": ".py",
   "mimetype": "text/x-python",
   "name": "python",
   "nbconvert_exporter": "python",
   "pygments_lexer": "ipython3",
   "version": "3.10.0"
  }
 },
 "nbformat": 4,
 "nbformat_minor": 2
}
