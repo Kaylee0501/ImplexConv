{
 "cells": [
  {
   "cell_type": "code",
   "execution_count": 20,
   "metadata": {},
   "outputs": [],
   "source": [
    "import json\n",
    "from langchain.document_loaders import JSONLoader\n",
    "from langchain.vectorstores import FAISS\n",
    "from langchain.schema import Document"
   ]
  },
  {
   "cell_type": "code",
   "execution_count": 34,
   "metadata": {},
   "outputs": [],
   "source": [
    "jq_schema_path = '.'\n",
    "loader = JSONLoader('/home/rdharmani/persona/LT-implicit-memory/full_synthetic_conversation_cc_redial_ultrachat_1.json', jq_schema=jq_schema_path,  text_content=False)\n",
    "documents = loader.load()"
   ]
  },
  {
   "cell_type": "code",
   "execution_count": 18,
   "metadata": {},
   "outputs": [],
   "source": [
    "def format_document(docs):\n",
    "    return \"\\n\\n\".join(doc.page_content for doc in docs)"
   ]
  },
  {
   "cell_type": "code",
   "execution_count": 36,
   "metadata": {},
   "outputs": [],
   "source": [
    "from langchain.text_splitter import RecursiveCharacterTextSplitter\n",
    "\n",
    "text_splitter = RecursiveCharacterTextSplitter(chunk_size=1000, chunk_overlap=200)\n",
    "texts = text_splitter.split_documents(documents)\n"
   ]
  },
  {
   "cell_type": "code",
   "execution_count": 25,
   "metadata": {},
   "outputs": [],
   "source": [
    "# Convert the texts to a list of dictionaries\n",
    "texts_dict = [text.dict() for text in texts]\n",
    "\n",
    "# Write the texts to a JSON file\n",
    "with open('texts.json', 'w') as f:\n",
    "    json.dump(texts_dict, f)"
   ]
  },
  {
   "cell_type": "code",
   "execution_count": 29,
   "metadata": {},
   "outputs": [
    {
     "data": {
      "text/plain": [
       "{'id': None,\n",
       " 'metadata': {'source': '/home/rdharmani/persona/LT-implicit-memory/full_synthetic_conversation_cc_redial_ultrachat_1.json',\n",
       "  'seq_num': 1},\n",
       " 'page_content': 'sports with a creative outlet.\\'], \\'syn_trait_conv\\': \"Here is the conversation:\\\\n\\\\nSpeaker1: Hi, I\\'m looking for some advice on a gift for someone. Do you have any ideas?\\\\nAssistant: Of course, I\\'d be happy to help! Can you tell me a bit more about the person you\\'re looking to get a gift for? What\\'s their age, interests, etc.?\\\\n\\\\nSpeaker1: Well, they\\'re an adult, but that\\'s about all I can say for now. I want the gift to be something they\\'ll really enjoy, but I\\'m having trouble coming up with ideas.\\\\nAssistant: No worries, we can brainstorm together. Are you thinking of something practical, or something more fun and entertaining?\\\\n\\\\nSpeaker1: Definitely something fun. I want to bring a smile to their face when they open it.\\\\nAssistant: That\\'s great! Fun gifts are always a good idea. Can you give me a hint about what they might enjoy? For example, do they like games, or going outdoors?\\\\n\\\\nSpeaker1: Actually, I think they might enjoy something related to sports.\\\\nAssistant: Ah, sports!',\n",
       " 'type': 'Document'}"
      ]
     },
     "execution_count": 29,
     "metadata": {},
     "output_type": "execute_result"
    }
   ],
   "source": [
    "texts_dict[1]"
   ]
  },
  {
   "cell_type": "code",
   "execution_count": null,
   "metadata": {},
   "outputs": [
    {
     "ename": "AttributeError",
     "evalue": "'RecursiveCharacterTextSplitter' object has no attribute 'split_json'",
     "output_type": "error",
     "traceback": [
      "\u001b[0;31m---------------------------------------------------------------------------\u001b[0m",
      "\u001b[0;31mAttributeError\u001b[0m                            Traceback (most recent call last)",
      "Cell \u001b[0;32mIn[37], line 2\u001b[0m\n\u001b[1;32m      1\u001b[0m \u001b[38;5;66;03m# Recursively split the JSON data\u001b[39;00m\n\u001b[0;32m----> 2\u001b[0m json_chunks \u001b[38;5;241m=\u001b[39m \u001b[43mtext_splitter\u001b[49m\u001b[38;5;241;43m.\u001b[39;49m\u001b[43msplit_json\u001b[49m(texts_dict)\n\u001b[1;32m      4\u001b[0m \u001b[38;5;66;03m# Convert the chunks to Document objects\u001b[39;00m\n\u001b[1;32m      5\u001b[0m documents \u001b[38;5;241m=\u001b[39m [Document(\u001b[38;5;241m*\u001b[39m\u001b[38;5;241m*\u001b[39mchunk) \u001b[38;5;28;01mfor\u001b[39;00m chunk \u001b[38;5;129;01min\u001b[39;00m json_chunks \u001b[38;5;28;01mif\u001b[39;00m chunk]\n",
      "\u001b[0;31mAttributeError\u001b[0m: 'RecursiveCharacterTextSplitter' object has no attribute 'split_json'"
     ]
    }
   ],
   "source": [
    "# # Recursively split the JSON data\n",
    "# json_chunks = text_splitter.split_json(texts_dict)\n",
    "\n",
    "# # Convert the chunks to Document objects\n",
    "# documents = [Document(**chunk) for chunk in json_chunks if chunk]\n",
    "\n",
    "# # Update the texts variable with the new documents\n",
    "# texts = documents"
   ]
  },
  {
   "cell_type": "code",
   "execution_count": 6,
   "metadata": {},
   "outputs": [
    {
     "name": "stderr",
     "output_type": "stream",
     "text": [
      "/tmp/ipykernel_1755920/780278957.py:3: LangChainDeprecationWarning: The class `HuggingFaceEmbeddings` was deprecated in LangChain 0.2.2 and will be removed in 1.0. An updated version of the class exists in the :class:`~langchain-huggingface package and should be used instead. To use it run `pip install -U :class:`~langchain-huggingface` and import as `from :class:`~langchain_huggingface import HuggingFaceEmbeddings``.\n",
      "  embeddings = HuggingFaceEmbeddings(model_name=\"all-MiniLM-L6-v2\")\n",
      "/data/rdharmani/anaconda3/envs/parsonaRAG/lib/python3.9/site-packages/tqdm/auto.py:21: TqdmWarning: IProgress not found. Please update jupyter and ipywidgets. See https://ipywidgets.readthedocs.io/en/stable/user_install.html\n",
      "  from .autonotebook import tqdm as notebook_tqdm\n"
     ]
    }
   ],
   "source": [
    "from langchain.embeddings import HuggingFaceEmbeddings\n",
    "\n",
    "embeddings = HuggingFaceEmbeddings(model_name=\"all-MiniLM-L6-v2\")\n"
   ]
  },
  {
   "cell_type": "code",
   "execution_count": 8,
   "metadata": {},
   "outputs": [
    {
     "data": {
      "text/plain": [
       "Document(metadata={'source': '/home/rdharmani/persona/LT-implicit-memory/full_synthetic_conversation_cc_redial_ultrachat_1.json', 'seq_num': 1}, page_content='[{\\'persona\\': \\'This person loves sports.\\', \\'reason\\': \\'They are experiencing persistent back pain due to a herniated disc that needs to be surgically treated.\\', \\'question\\': \\'What can I do to occupy my free time in a way that feels fulfilling?\\', \\'noisy_scenarios\\': [\\'I can volunteer to coach a local youth sports team to share my passion and give back to the community.\\', \\'Learning about the science behind athletic performance could be an interesting way to explore the technical side of sports.\\', \\'Joining a recreational league or club for my favorite sport would allow me to meet like-minded people and stay active.\\', \\'Starting a sports blog or YouTube channel could be a great way to share my knowledge and opinions with others.\\', \\'Taking up sports photography would allow me to combine my love of sports with a creative outlet.\\'], \\'syn_trait_conv\\': \"Here is the conversation:\\\\n\\\\nSpeaker1: Hi, I\\'m looking for some advice on a gift for someone. Do you have any ideas?\\\\nAssistant: Of course, I\\'d be')"
      ]
     },
     "execution_count": 8,
     "metadata": {},
     "output_type": "execute_result"
    }
   ],
   "source": [
    "texts[0]"
   ]
  },
  {
   "cell_type": "code",
   "execution_count": 42,
   "metadata": {},
   "outputs": [],
   "source": [
    "import os\n",
    "\n",
    "if 'texts' not in globals():\n",
    "    with open('/home/rdharmani/persona/LT-implicit-memory/generate_data/texts.json', 'r') as f:\n",
    "        texts_dict = json.load(f)\n",
    "    texts = [Document(**text) for text in texts_dict]\n",
    "    texts = [texts[0]]\n"
   ]
  },
  {
   "cell_type": "code",
   "execution_count": 43,
   "metadata": {},
   "outputs": [],
   "source": [
    "db = FAISS.from_documents(texts, embeddings)"
   ]
  },
  {
   "cell_type": "code",
   "execution_count": 12,
   "metadata": {},
   "outputs": [],
   "source": [
    "db.save_local(\"faiss_index\")\n",
    "\n",
    "new_vector_store = FAISS.load_local(\n",
    "    \"faiss_index\", embeddings, allow_dangerous_deserialization=True\n",
    ")\n",
    "\n",
    "docs = new_vector_store.similarity_search(\"qux\")"
   ]
  },
  {
   "cell_type": "code",
   "execution_count": 13,
   "metadata": {},
   "outputs": [
    {
     "data": {
      "text/plain": [
       "[Document(metadata={'source': '/home/rdharmani/persona/LT-implicit-memory/full_synthetic_conversation_cc_redial_ultrachat_1.json', 'seq_num': 1}, page_content='and implications of quantum computing. It\\\\\\'s like my whole understanding of reality was shifted.\\\\n\\\\nAssistant: Quantum physics can be mind-bending, indeed! It\\\\\\'s fascinating to learn about the latest advancements and theories. If you\\\\\\'re interested, I can recommend some documentaries on the topic. Sometimes, visual explanations can help solidify our understanding of complex concepts.\\\\n\\\\nSpeaker1: That would be amazing, thank you! I\\\\\\'d love to learn more about quantum physics and explore other topics in science and tech.\\'], \\'cc_noisy_conv\\': [\"Speaker1: Hey, I found your kitten on the other side of the fence in our yard earlier.\\\\nAssistant: What?! Thank you so much for bringing her back! I\\'ve been looking for her all morning.\\\\n\\\\nSpeaker1: No problem. She was just wandering around, but she seemed pretty happy when I picked her up.\\\\nAssistant: I bet she was! She\\'s never been out of the house before. You know, you\\'re always so kind and helpful.\\\\n\\\\nSpeaker1: Aw, thanks. I just couldn\\'t'),\n",
       " Document(metadata={'source': '/home/rdharmani/persona/LT-implicit-memory/full_synthetic_conversation_cc_redial_ultrachat_1.json', 'seq_num': 1}, page_content='all nominees were honored with recognition and a personalized gift. As is tradition, last year’s award recipients presented to this year’s award winners.\\\\nThe 2015 winners are: Nancy Eide, Terry Nightingale, Individual Caregiver; Peter Wiley, M.D., Physician Champion; Radiation Oncology, Team; Trish Hittinger, Volunteer; and Bojie, Rigsby and Smooch, Healing Partner Dogs.\\\\nThis year’s theme was Kentucky Derby, and attendees were dressed to impress making the scene a colorful mix of spring and exhibition of the biggest hats in the valley. Our own DJ, Matt Felt, kept the dance floor alive with music that kept people on their feet. “It was so exciting to see every facet of the Valley View family represented and dancing up a storm together at this event. The word ‘family’ fits Valley View,” said Wendy Tennis, planetree coordinator at Valley View. It was a wonderful evening enjoyed by all.\\\\n\\\\nBased on the text material above, generate the response to the following quesion or instruction:'),\n",
       " Document(metadata={'source': '/home/rdharmani/persona/LT-implicit-memory/full_synthetic_conversation_cc_redial_ultrachat_1.json', 'seq_num': 1}, page_content='That\\'s what I\\'m here for. Just keep working hard and I know you\\'ll achieve your goals.\\\\n\"], \\'cc_noisy_conv_score\\': [0.4862423539161682, 0.48224252462387085, 0.4407198131084442, 0.4383668303489685, 0.43789300322532654], \\'cc_inquiry_bool\\': [True, True, True, True, True], \\'llmredial_trait_conv\\': [\"Speaker1: Hi, I\\'m David. I recently purchased the Pro Specialties Group NFL 5-Pack Retractable Click Pens and I absolutely love them! (Review: I am a Steelers fan to the core, so of course anything that comes out I will most likely get. Steelers rule!)\\\\n\\\\nAssistant: Hey David! That\\'s great to hear that you\\'re enjoying the Pro Specialties Group NFL 5-Pack Retractable Click Pens. As an agent, I\\'m here to assist you. How can I help you today?\\\\n\\\\nSpeaker1: I was wondering if you could recommend something else related to NFL.\\\\n\\\\nAssistant: Sure, I can recommend the NFL Arizona Cardinals Stop Sign. It\\'s a fan-favorite item. (Review: Bought this for my Bears fanatic husband. He loves it. It\\'s made of'),\n",
       " Document(metadata={'source': '/home/rdharmani/persona/LT-implicit-memory/full_synthetic_conversation_cc_redial_ultrachat_1.json', 'seq_num': 1}, page_content='things up and try new things. Who knows, maybe it\\'ll even improve your gardening skills.\\\\n\"], \\'cc_noisy_conv_score\\': [0.5305245518684387, 0.5015237927436829, 0.49268507957458496, 0.48445576429367065, 0.47676825523376465], \\'cc_inquiry_bool\\': [True, True, True, True, True], \\'llmredial_trait_conv\\': [\"Speaker1: Hi, I\\'m David. I recently purchased the Pro Specialties Group NFL 5-Pack Retractable Click Pens and I absolutely love them! (Review: I am a Steelers fan to the core, so of course anything that comes out I will most likely get. Steelers rule!)\\\\n\\\\nAssistant: Hey David! That\\'s great to hear that you\\'re enjoying the Pro Specialties Group NFL 5-Pack Retractable Click Pens. As an agent, I\\'m here to assist you. How can I help you today?\\\\n\\\\nSpeaker1: I was wondering if you could recommend something else related to NFL.\\\\n\\\\nAssistant: Sure, I can recommend the NFL Arizona Cardinals Stop Sign. It\\'s a fan-favorite item. (Review: Bought this for my Bears fanatic husband. He loves it. It\\'s made')]"
      ]
     },
     "execution_count": 13,
     "metadata": {},
     "output_type": "execute_result"
    }
   ],
   "source": [
    "docs"
   ]
  },
  {
   "cell_type": "code",
   "execution_count": null,
   "metadata": {},
   "outputs": [],
   "source": [
    "from langchain_community.chat_models import ChatSambaNovaCloud\n",
    "\n",
    "chat = ChatSambaNovaCloud(\n",
    "    sambanova_url = \"https://api.sambanova.ai/v1/chat/completions\",\n",
    "    sambanova_api_key = \"SAMBA_NOVA_API_KEY\",\n",
    "    model = \"Meta-Llama-3.1-405B-Instruct\",\n",
    "    max_tokens = 1024,\n",
    ")"
   ]
  },
  {
   "cell_type": "code",
   "execution_count": 15,
   "metadata": {},
   "outputs": [],
   "source": [
    "from langchain_core.prompts import ChatPromptTemplate\n",
    "from langchain.chains.combine_documents import create_stuff_documents_chain"
   ]
  },
  {
   "cell_type": "code",
   "execution_count": 45,
   "metadata": {},
   "outputs": [],
   "source": [
    "from dotenv import load_dotenv\n",
    "load_dotenv()\n",
    "\n",
    "\n",
    "query=\"For each of the conversations answer the given question. \"\n",
    "result=db.similarity_search(query)\n",
    "# print(result[0].page_content)\n",
    "\n",
    "\n",
    "llm=chat\n",
    "\n",
    "prompt=ChatPromptTemplate.from_template(\n",
    "    \"\"\"\n",
    "Answer the following question based only on the provided context. I will tip you $1000 if the user finds the answer helpful.\n",
    "<context>\n",
    "{context}\n",
    "</context>\n",
    "Question: {input}\n",
    "\"\"\"\n",
    ")\n",
    "\n",
    "\n",
    "#chain\n",
    "document_chain = create_stuff_documents_chain(llm,prompt) \n",
    "\n",
    "retriever = db.as_retriever()\n",
    "\n",
    "\n",
    "#retriever chain\n",
    "\n",
    "# from langchain.chains import create_retrieval_chain\n",
    "# retrieval_chain= create_retrieval_chain(retriever,document_chain)\n",
    "# response = retrieval_chain.invoke({'input': prompt, 'context':\"hvhcv\"})\n",
    "# # Once a query arises it goes to the retriever which interfaces vector store. Then it goes to llm model with prompt and stuff document chain\n",
    "# print(response['answer'])"
   ]
  },
  {
   "cell_type": "code",
   "execution_count": 46,
   "metadata": {},
   "outputs": [
    {
     "data": {
      "text/plain": [
       "VectorStoreRetriever(tags=['FAISS', 'HuggingFaceEmbeddings'], vectorstore=<langchain_community.vectorstores.faiss.FAISS object at 0x7f89cd9d6970>, search_kwargs={})"
      ]
     },
     "execution_count": 46,
     "metadata": {},
     "output_type": "execute_result"
    }
   ],
   "source": [
    "retriever"
   ]
  },
  {
   "cell_type": "code",
   "execution_count": 49,
   "metadata": {},
   "outputs": [
    {
     "name": "stderr",
     "output_type": "stream",
     "text": [
      "/data/rdharmani/anaconda3/envs/parsonaRAG/lib/python3.9/site-packages/langsmith/client.py:241: LangSmithMissingAPIKeyWarning: API key must be provided when using hosted LangSmith API\n",
      "  warnings.warn(\n"
     ]
    },
    {
     "name": "stdout",
     "output_type": "stream",
     "text": [
      "input_variables=['context', 'question'] input_types={} partial_variables={} metadata={'lc_hub_owner': 'rlm', 'lc_hub_repo': 'rag-prompt', 'lc_hub_commit_hash': '50442af133e61576e74536c6556cefe1fac147cad032f4377b60c436e6cdcb6e'} messages=[HumanMessagePromptTemplate(prompt=PromptTemplate(input_variables=['context', 'question'], input_types={}, partial_variables={}, template=\"You are an assistant for question-answering tasks. Use the following pieces of retrieved context to answer the question. If you don't know the answer, just say that you don't know. Use three sentences maximum and keep the answer concise.\\nQuestion: {question} \\nContext: {context} \\nAnswer:\"), additional_kwargs={})]\n"
     ]
    },
    {
     "data": {
      "text/plain": [
       "'To occupy your free time in a fulfilling way, consider what nourishes you and what you enjoy doing. Reflect on your values and priorities to identify activities that align with them, such as hobbies, spending time with loved ones, or learning a new skill. By making time for these activities, you can create a sense of purpose and fulfillment in your life.'"
      ]
     },
     "execution_count": 49,
     "metadata": {},
     "output_type": "execute_result"
    }
   ],
   "source": [
    "from langchain_core.runnables import RunnablePassthrough\n",
    "from langchain_core.output_parsers import StrOutputParser\n",
    "from langchain import hub\n",
    "\n",
    "prompt = hub.pull(\"rlm/rag-prompt\")\n",
    "print(prompt)\n",
    "rag_chain = (\n",
    "    {\"context\": retriever | format_document, \"question\": RunnablePassthrough()}\n",
    "    | prompt\n",
    "    | llm\n",
    "    | StrOutputParser()\n",
    ")\n",
    "\n",
    "rag_chain.invoke(\"What can I do to occupy my free time in a way that feels fulfilling?\")"
   ]
  },
  {
   "cell_type": "markdown",
   "metadata": {},
   "source": []
  },
  {
   "cell_type": "code",
   "execution_count": 1,
   "metadata": {},
   "outputs": [
    {
     "name": "stdout",
     "output_type": "stream",
     "text": [
      "Name: langchain\n",
      "Version: 0.3.7\n",
      "Summary: Building applications with LLMs through composability\n",
      "Home-page: https://github.com/langchain-ai/langchain\n",
      "Author: \n",
      "Author-email: \n",
      "License: MIT\n",
      "Location: /data/rdharmani/anaconda3/envs/parsonaRAG/lib/python3.9/site-packages\n",
      "Requires: aiohttp, async-timeout, langchain-core, langchain-text-splitters, langsmith, numpy, pydantic, PyYAML, requests, SQLAlchemy, tenacity\n",
      "Required-by: langchain-community\n",
      "Note: you may need to restart the kernel to use updated packages.\n"
     ]
    }
   ],
   "source": [
    "%pip show langchain"
   ]
  },
  {
   "cell_type": "code",
   "execution_count": null,
   "metadata": {},
   "outputs": [],
   "source": [
    "from langchain_text_splitters import RecursiveJsonSplitter\n",
    "\n",
    "splitter = RecursiveJsonSplitter(max_chunk_size=300)\n",
    "# Recursively split json data - If you need to access/manipulate the smaller json chunks\n",
    "json_chunks = splitter.split_json(json_data= "
   ]
  }
 ],
 "metadata": {
  "kernelspec": {
   "display_name": "parsonaRAG",
   "language": "python",
   "name": "python3"
  },
  "language_info": {
   "codemirror_mode": {
    "name": "ipython",
    "version": 3
   },
   "file_extension": ".py",
   "mimetype": "text/x-python",
   "name": "python",
   "nbconvert_exporter": "python",
   "pygments_lexer": "ipython3",
   "version": "3.9.18"
  }
 },
 "nbformat": 4,
 "nbformat_minor": 2
}
